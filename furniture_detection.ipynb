{
  "cells": [
    {
      "cell_type": "code",
      "execution_count": null,
      "metadata": {
        "colab": {
          "base_uri": "https://localhost:8080/"
        },
        "id": "J65lLY3KAGIp",
        "outputId": "42882ce2-05e0-46c8-c364-659e0a7d8751"
      },
      "outputs": [],
      "source": [
        "!unzip \"datasetsForKeras.zip\""
      ]
    },
    {
      "cell_type": "code",
      "execution_count": null,
      "metadata": {
        "colab": {
          "base_uri": "https://localhost:8080/"
        },
        "id": "-lemvV9e4Fte",
        "outputId": "f0d11b1b-2a59-4553-d41e-ac0d37df8384"
      },
      "outputs": [
        {
          "name": "stdout",
          "output_type": "stream",
          "text": [
            "Found 88 images belonging to 14 classes.\n",
            "Found 88 images belonging to 14 classes.\n"
          ]
        }
      ],
      "source": [
        "from tensorflow.keras.preprocessing.image import ImageDataGenerator\n",
        "\n",
        "# Parameter\n",
        "img_height, img_width = 224, 224\n",
        "batch_size = 32\n",
        "\n",
        "# Train data generator\n",
        "train_datagen = ImageDataGenerator(\n",
        "    rescale=1./255,\n",
        "    rotation_range=20,\n",
        "    width_shift_range=0.2,\n",
        "    height_shift_range=0.2,\n",
        "    shear_range=0.2,\n",
        "    zoom_range=0.2,\n",
        "    horizontal_flip=True,\n",
        "    fill_mode='nearest'\n",
        ")\n",
        "\n",
        "# Validation\n",
        "val_datagen = ImageDataGenerator(rescale=1./255)\n",
        "\n",
        "# Load training data\n",
        "train_generator = train_datagen.flow_from_directory(\n",
        "    '/content/train',\n",
        "    target_size=(img_height, img_width),\n",
        "    batch_size=batch_size,\n",
        "    class_mode='categorical'\n",
        ")\n",
        "\n",
        "# Load validation data\n",
        "validation_generator = val_datagen.flow_from_directory(\n",
        "    '/content/validation',\n",
        "    target_size=(img_height, img_width),\n",
        "    batch_size=batch_size,\n",
        "    class_mode='categorical'\n",
        ")"
      ]
    },
    {
      "cell_type": "code",
      "execution_count": null,
      "metadata": {
        "colab": {
          "base_uri": "https://localhost:8080/"
        },
        "id": "WUZXMRbh8znK",
        "outputId": "03919f9b-c93a-4c4f-abc1-8258836c9649"
      },
      "outputs": [
        {
          "name": "stdout",
          "output_type": "stream",
          "text": [
            "Downloading data from https://storage.googleapis.com/tensorflow/keras-applications/vgg16/vgg16_weights_tf_dim_ordering_tf_kernels_notop.h5\n",
            "58889256/58889256 [==============================] - 0s 0us/step\n",
            "Model: \"model\"\n",
            "_________________________________________________________________\n",
            " Layer (type)                Output Shape              Param #   \n",
            "=================================================================\n",
            " input_1 (InputLayer)        [(None, 224, 224, 3)]     0         \n",
            "                                                                 \n",
            " block1_conv1 (Conv2D)       (None, 224, 224, 64)      1792      \n",
            "                                                                 \n",
            " block1_conv2 (Conv2D)       (None, 224, 224, 64)      36928     \n",
            "                                                                 \n",
            " block1_pool (MaxPooling2D)  (None, 112, 112, 64)      0         \n",
            "                                                                 \n",
            " block2_conv1 (Conv2D)       (None, 112, 112, 128)     73856     \n",
            "                                                                 \n",
            " block2_conv2 (Conv2D)       (None, 112, 112, 128)     147584    \n",
            "                                                                 \n",
            " block2_pool (MaxPooling2D)  (None, 56, 56, 128)       0         \n",
            "                                                                 \n",
            " block3_conv1 (Conv2D)       (None, 56, 56, 256)       295168    \n",
            "                                                                 \n",
            " block3_conv2 (Conv2D)       (None, 56, 56, 256)       590080    \n",
            "                                                                 \n",
            " block3_conv3 (Conv2D)       (None, 56, 56, 256)       590080    \n",
            "                                                                 \n",
            " block3_pool (MaxPooling2D)  (None, 28, 28, 256)       0         \n",
            "                                                                 \n",
            " block4_conv1 (Conv2D)       (None, 28, 28, 512)       1180160   \n",
            "                                                                 \n",
            " block4_conv2 (Conv2D)       (None, 28, 28, 512)       2359808   \n",
            "                                                                 \n",
            " block4_conv3 (Conv2D)       (None, 28, 28, 512)       2359808   \n",
            "                                                                 \n",
            " block4_pool (MaxPooling2D)  (None, 14, 14, 512)       0         \n",
            "                                                                 \n",
            " block5_conv1 (Conv2D)       (None, 14, 14, 512)       2359808   \n",
            "                                                                 \n",
            " block5_conv2 (Conv2D)       (None, 14, 14, 512)       2359808   \n",
            "                                                                 \n",
            " block5_conv3 (Conv2D)       (None, 14, 14, 512)       2359808   \n",
            "                                                                 \n",
            " block5_pool (MaxPooling2D)  (None, 7, 7, 512)         0         \n",
            "                                                                 \n",
            " flatten (Flatten)           (None, 25088)             0         \n",
            "                                                                 \n",
            " dense (Dense)               (None, 512)               12845568  \n",
            "                                                                 \n",
            " dropout (Dropout)           (None, 512)               0         \n",
            "                                                                 \n",
            " dense_1 (Dense)             (None, 14)                7182      \n",
            "                                                                 \n",
            "=================================================================\n",
            "Total params: 27567438 (105.16 MB)\n",
            "Trainable params: 12852750 (49.03 MB)\n",
            "Non-trainable params: 14714688 (56.13 MB)\n",
            "_________________________________________________________________\n"
          ]
        }
      ],
      "source": [
        "from tensorflow.keras.applications import VGG16\n",
        "from tensorflow.keras.models import Model\n",
        "from tensorflow.keras.layers import Dense, Flatten, Dropout\n",
        "\n",
        "# Load VGG16 + higher level layers\n",
        "base_model = VGG16(weights='imagenet', include_top=False, input_shape=(img_height, img_width, 3))\n",
        "\n",
        "# Freeze base model layers\n",
        "for layer in base_model.layers:\n",
        "    layer.trainable = False\n",
        "\n",
        "# Add custom layers on top of VGG16\n",
        "x = base_model.output\n",
        "x = Flatten()(x)\n",
        "x = Dense(512, activation='relu')(x)\n",
        "x = Dropout(0.5)(x)\n",
        "predictions = Dense(14, activation='softmax')(x)\n",
        "\n",
        "model = Model(inputs=base_model.input, outputs=predictions)\n",
        "\n",
        "# Compile the model\n",
        "model.compile(optimizer='adam', loss='categorical_crossentropy', metrics=['accuracy'])\n",
        "\n",
        "model.summary()"
      ]
    },
    {
      "cell_type": "code",
      "execution_count": null,
      "metadata": {
        "colab": {
          "base_uri": "https://localhost:8080/"
        },
        "id": "uO6lLK6m81A-",
        "outputId": "667fb821-079b-45b6-9624-5206abbfc9ef"
      },
      "outputs": [
        {
          "name": "stdout",
          "output_type": "stream",
          "text": [
            "Epoch 1/25\n",
            "2/2 [==============================] - 75s 54s/step - loss: 5.4585 - accuracy: 0.0893 - val_loss: 5.6552 - val_accuracy: 0.2188\n",
            "Epoch 2/25\n",
            "2/2 [==============================] - 73s 54s/step - loss: 7.7071 - accuracy: 0.1071 - val_loss: 3.8800 - val_accuracy: 0.3750\n",
            "Epoch 3/25\n",
            "2/2 [==============================] - 72s 58s/step - loss: 6.3029 - accuracy: 0.1786 - val_loss: 3.6775 - val_accuracy: 0.2031\n",
            "Epoch 4/25\n",
            "2/2 [==============================] - 72s 58s/step - loss: 5.0324 - accuracy: 0.1429 - val_loss: 1.4015 - val_accuracy: 0.6250\n",
            "Epoch 5/25\n",
            "2/2 [==============================] - 72s 58s/step - loss: 2.9646 - accuracy: 0.2857 - val_loss: 0.9913 - val_accuracy: 0.7344\n",
            "Epoch 6/25\n",
            "2/2 [==============================] - 72s 54s/step - loss: 2.4725 - accuracy: 0.4107 - val_loss: 1.0493 - val_accuracy: 0.6719\n",
            "Epoch 7/25\n",
            "2/2 [==============================] - 77s 59s/step - loss: 2.3725 - accuracy: 0.3281 - val_loss: 0.8051 - val_accuracy: 0.7500\n",
            "Epoch 8/25\n",
            "2/2 [==============================] - 71s 57s/step - loss: 1.7755 - accuracy: 0.4464 - val_loss: 0.5640 - val_accuracy: 0.8438\n",
            "Epoch 9/25\n",
            "2/2 [==============================] - 71s 54s/step - loss: 1.3854 - accuracy: 0.5893 - val_loss: 0.5629 - val_accuracy: 0.8750\n",
            "Epoch 10/25\n",
            "2/2 [==============================] - 72s 53s/step - loss: 1.2560 - accuracy: 0.6250 - val_loss: 0.5777 - val_accuracy: 0.8438\n",
            "Epoch 11/25\n",
            "2/2 [==============================] - 72s 54s/step - loss: 1.3852 - accuracy: 0.6071 - val_loss: 0.5245 - val_accuracy: 0.8281\n",
            "Epoch 12/25\n",
            "2/2 [==============================] - 71s 58s/step - loss: 1.1339 - accuracy: 0.5536 - val_loss: 0.4560 - val_accuracy: 0.8594\n",
            "Epoch 13/25\n",
            "2/2 [==============================] - 73s 54s/step - loss: 1.0925 - accuracy: 0.6071 - val_loss: 0.3990 - val_accuracy: 0.8594\n",
            "Epoch 14/25\n",
            "2/2 [==============================] - 73s 59s/step - loss: 0.9179 - accuracy: 0.7500 - val_loss: 0.3416 - val_accuracy: 0.8750\n",
            "Epoch 15/25\n",
            "2/2 [==============================] - 69s 51s/step - loss: 1.1005 - accuracy: 0.6250 - val_loss: 0.4545 - val_accuracy: 0.8750\n",
            "Epoch 16/25\n",
            "2/2 [==============================] - 73s 59s/step - loss: 0.7668 - accuracy: 0.7857 - val_loss: 0.3566 - val_accuracy: 0.8906\n",
            "Epoch 17/25\n",
            "2/2 [==============================] - 76s 59s/step - loss: 0.8262 - accuracy: 0.7500 - val_loss: 0.2334 - val_accuracy: 0.9531\n",
            "Epoch 18/25\n",
            "2/2 [==============================] - 75s 57s/step - loss: 0.6773 - accuracy: 0.7656 - val_loss: 0.2626 - val_accuracy: 0.9375\n",
            "Epoch 19/25\n",
            "2/2 [==============================] - 71s 54s/step - loss: 0.8316 - accuracy: 0.7321 - val_loss: 0.1995 - val_accuracy: 0.9375\n",
            "Epoch 20/25\n",
            "2/2 [==============================] - 72s 53s/step - loss: 0.6831 - accuracy: 0.7500 - val_loss: 0.1482 - val_accuracy: 0.9688\n",
            "Epoch 21/25\n",
            "2/2 [==============================] - 76s 58s/step - loss: 0.6163 - accuracy: 0.8281 - val_loss: 0.1977 - val_accuracy: 0.9219\n",
            "Epoch 22/25\n",
            "2/2 [==============================] - 71s 53s/step - loss: 0.6379 - accuracy: 0.7857 - val_loss: 0.1806 - val_accuracy: 0.9375\n",
            "Epoch 23/25\n",
            "2/2 [==============================] - 70s 49s/step - loss: 0.8096 - accuracy: 0.7188 - val_loss: 0.1313 - val_accuracy: 0.9844\n",
            "Epoch 24/25\n",
            "2/2 [==============================] - 65s 46s/step - loss: 0.5486 - accuracy: 0.8036 - val_loss: 0.1114 - val_accuracy: 0.9844\n",
            "Epoch 25/25\n",
            "2/2 [==============================] - 72s 54s/step - loss: 0.6017 - accuracy: 0.7857 - val_loss: 0.1398 - val_accuracy: 0.9844\n"
          ]
        }
      ],
      "source": [
        "# Train model\n",
        "history = model.fit(\n",
        "    train_generator,\n",
        "    steps_per_epoch=train_generator.samples // batch_size,\n",
        "    validation_data=validation_generator,\n",
        "    validation_steps=validation_generator.samples // batch_size,\n",
        "    epochs=25\n",
        ")"
      ]
    },
    {
      "cell_type": "code",
      "execution_count": null,
      "metadata": {
        "colab": {
          "base_uri": "https://localhost:8080/"
        },
        "id": "U8JYDr0d82aY",
        "outputId": "d0202ca1-da9e-470d-89fd-d747a6f51b5c"
      },
      "outputs": [
        {
          "name": "stdout",
          "output_type": "stream",
          "text": [
            "1/1 [==============================] - 1s 688ms/step\n",
            "Predicted one-hot: [1. 0. 0. 0. 0. 0. 0. 0. 0. 0. 0. 0. 0. 0.], Class name: kursi01\n"
          ]
        }
      ],
      "source": [
        "import numpy as np\n",
        "from tensorflow.keras.preprocessing import image\n",
        "\n",
        "# Dictionary untuk mapping kelas ke nama kursi\n",
        "class_indices = train_generator.class_indices\n",
        "index_to_class = {v: k for k, v in class_indices.items()}\n",
        "\n",
        "def predict_image(img_path):\n",
        "    img = image.load_img(img_path, target_size=(img_height, img_width))\n",
        "    img_array = image.img_to_array(img)\n",
        "    img_array = np.expand_dims(img_array, axis=0)\n",
        "    img_array /= 255.0\n",
        "\n",
        "    prediction = model.predict(img_array)\n",
        "    class_index = np.argmax(prediction)\n",
        "    class_name = index_to_class[class_index]\n",
        "    one_hot_encoded = np.zeros(14)\n",
        "    one_hot_encoded[class_index] = 1\n",
        "\n",
        "    return one_hot_encoded, class_name\n",
        "\n",
        "# Penggunaan fungsi predict_image\n",
        "img_path = '/content/train/kursi01/kursi01.jpg'\n",
        "one_hot, class_name = predict_image(img_path)\n",
        "print(f\"Predicted one-hot: {one_hot}, Class name: {class_name}\")\n"
      ]
    },
    {
      "cell_type": "code",
      "execution_count": null,
      "metadata": {},
      "outputs": [],
      "source": [
        "# Menyimpan model ke file model.h5\n",
        "model.save('model_furniture.h5')\n",
        "\n",
        "# Menyimpan model dalam format TensorFlow SavedModel\n",
        "model.save('saved_furniture')\n"
      ]
    }
  ],
  "metadata": {
    "colab": {
      "provenance": []
    },
    "kernelspec": {
      "display_name": "Python 3",
      "name": "python3"
    },
    "language_info": {
      "name": "python"
    }
  },
  "nbformat": 4,
  "nbformat_minor": 0
}
